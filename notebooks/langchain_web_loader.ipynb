{
 "cells": [
  {
   "cell_type": "markdown",
   "metadata": {},
   "source": [
    "# LangChain Web Loading Experiments\n",
    "\n",
    "This notebook demonstrates how to use LangChain's web loading capabilities to:\n",
    "1. Load and parse web content\n",
    "2. Extract structured data\n",
    "3. Clean and process HTML content\n",
    "4. Handle different types of web pages\n",
    "5. Integrate with LLMs for content analysis"
   ]
  },
  {
   "cell_type": "code",
   "execution_count": 1,
   "metadata": {},
   "outputs": [
    {
     "name": "stderr",
     "output_type": "stream",
     "text": [
      "USER_AGENT environment variable not set, consider setting it to identify your requests.\n"
     ]
    },
    {
     "name": "stdout",
     "output_type": "stream",
     "text": [
      "INFO     [browser_use] BrowserUse logging setup complete with level info\n",
      "INFO     [root] Anonymized telemetry enabled. See https://github.com/gregpr07/browser-use for more information.\n"
     ]
    },
    {
     "data": {
      "text/plain": [
       "True"
      ]
     },
     "execution_count": 1,
     "metadata": {},
     "output_type": "execute_result"
    }
   ],
   "source": [
    "# Import required libraries\n",
    "import sys\n",
    "from typing import List\n",
    "from dotenv import load_dotenv\n",
    "from pydantic import BaseModel, Field\n",
    "\n",
    "from langchain_community.document_loaders import WebBaseLoader\n",
    "\n",
    "# Add src to path for imports\n",
    "sys.path.append('../src')\n",
    "from agents.llmtools import get_llm\n",
    "\n",
    "# Load environment variables\n",
    "load_dotenv()"
   ]
  },
  {
   "cell_type": "markdown",
   "metadata": {},
   "source": [
    "## Basic Web Loading\n",
    "\n",
    "Let's start with basic web page loading and see what we get."
   ]
  },
  {
   "cell_type": "code",
   "execution_count": 4,
   "metadata": {},
   "outputs": [
    {
     "name": "stdout",
     "output_type": "stream",
     "text": [
      "Number of documents: 1\n",
      "\n",
      "Metadata from first document:\n",
      "{'source': 'https://graygrids.com/blog/product-hunt-alternatives', 'title': 'Top 11 Product Hunt Alternatives to Try in 2025 | GrayGrids', 'description': 'Discover Product Hunt Alternatives: Top Websites, Directories, and Communities to Successfully Launch Your Next Product, Startup, and To...', 'language': 'No language found.'}\n",
      "\n",
      "First 500 characters of content:\n",
      "Top 11 Product Hunt Alternatives to Try in 2025 | GrayGrids0Hours0Mins0Secs60% OFF on GrayGrids - Apply Coupon Code: BLFCM2024Explore All DealsTemplatesComponentsTailwind BuilderResourcesInspirationsImage CompressorMeta Tags GeneratorBrandsTailGridsUI Components, Blocks and Toolkit for Tailwind CSSTailAdminOpen-Source Tailwind CSS Admin Dashboard TemplateLineicons8400+ Line Icons for Designers and DevelopersFormBoldForm API and Backend Solution for All PlatformsPlainAdminFree Vanilla JS Multipur\n"
     ]
    }
   ],
   "source": [
    "# Load a simple web page\n",
    "url = \"https://graygrids.com/blog/product-hunt-alternatives\"\n",
    "loader = WebBaseLoader(url)\n",
    "\n",
    "# Load the page\n",
    "docs = loader.load()\n",
    "\n",
    "# Print basic info\n",
    "print(f\"Number of documents: {len(docs)}\")\n",
    "print(f\"\\nMetadata from first document:\")\n",
    "print(docs[0].metadata)\n",
    "print(f\"\\nFirst 500 characters of content:\")\n",
    "print(docs[0].page_content[:500])"
   ]
  },
  {
   "cell_type": "markdown",
   "metadata": {},
   "source": [
    "## Structured Data Extraction\n",
    "\n",
    "Now let's extract structured data from web pages using Pydantic models."
   ]
  },
  {
   "cell_type": "code",
   "execution_count": 17,
   "metadata": {},
   "outputs": [
    {
     "name": "stdout",
     "output_type": "stream",
     "text": [
      "Resource.fyi\n",
      "https://resource.fyi\n",
      "--\n",
      "Indie Hackers\n",
      "https://indiehackers.com\n",
      "--\n",
      "BetaList\n",
      "https://betalist.com\n",
      "--\n",
      "Reddit\n",
      "https://www.reddit.com\n",
      "--\n",
      "Y Combinator (news.ycombinator.com)\n",
      "https://news.ycombinator.com\n",
      "--\n",
      "Capterra\n",
      "https://www.capterra.com\n",
      "--\n",
      "StartupStash\n",
      "https://startupstash.com\n",
      "--\n",
      "LaunchingNext\n",
      "https://launchingnext.com\n",
      "--\n",
      "ctrlalt\n",
      "https://ctrlalt.com\n",
      "--\n",
      "SideProjectors\n",
      "https://sideprojectors.com\n",
      "--\n",
      "SaaSworthy\n",
      "https://saasworthy.com\n",
      "--\n",
      "BetaPage\n",
      "https://betapage.co\n",
      "--\n",
      "Alternativeto\n",
      "https://alternativeto.net\n",
      "--\n"
     ]
    }
   ],
   "source": [
    "from langchain_core.documents import Document\n",
    "from pydantic import BaseModel, Field\n",
    "\n",
    "class CompetitorList(BaseModel):\n",
    "    competitors:List[Competitor]\n",
    "\n",
    "class Competitor(BaseModel):\n",
    "    name: str = Field(\n",
    "        description=\"Name of the competitor\"\n",
    "    )\n",
    "    description: str = Field(\n",
    "        description=\"Description of the persona focus, concerns, and motives.\",\n",
    "    )\n",
    "    url: str = Field(\n",
    "        description=\"URL of the competitor\",\n",
    "    )\n",
    "\n",
    "class CompetitorList(BaseModel):\n",
    "    competitors:List[Competitor]\n",
    "    \n",
    "def extract_structured_content(doc: Document) -> CompetitorList:\n",
    "    \"\"\"Extract structured content from a web page\"\"\"\n",
    "    llm = get_llm()\n",
    "    prompt = f\"\"\"Extract the following information from this web page content:\n",
    "    - All links to top level domains that appear to be competitors to Product Hunt\n",
    "    - For each competitor also map their name and a brief description if available.\n",
    "    \n",
    "    Content:\n",
    "    {doc.page_content}\n",
    "    \"\"\"\n",
    "    \n",
    "    structured_llm = llm.with_structured_output(CompetitorList)\n",
    "    return structured_llm.invoke(prompt)\n",
    "\n",
    "# Try it out\n",
    "structured_content = extract_structured_content(docs[0])\n",
    "\n",
    "for comp in structured_content.competitors:\n",
    "    print(comp.name)\n",
    "    print(comp.url)\n",
    "    print(\"--\")"
   ]
  },
  {
   "cell_type": "code",
   "execution_count": 36,
   "metadata": {},
   "outputs": [
    {
     "name": "stdout",
     "output_type": "stream",
     "text": [
      "Based on the data provided, some alternatives to Product Hunt include LaunchingNext, The Startup Pitch, Softpedia, Starter Story, Betafy, BetaList, Maker Mag, Silicon.news, AI Site Hunt, Indiehackers.com, and Slant.\n"
     ]
    }
   ],
   "source": [
    "from agents.tools.searchweb import search_web_with_query \n",
    "from langchain_community.tools.tavily_search import TavilySearchResults,TavilyAnswer\n",
    "\n",
    "\n",
    "tavily_answer = TavilyAnswer()\n",
    "query=\"what are altnernatives to Product Hunt\"\n",
    "\n",
    "# Search\n",
    "answer = tavily_answer.invoke(query)\n",
    "\n",
    "print (answer)"
   ]
  },
  {
   "cell_type": "code",
   "execution_count": null,
   "metadata": {},
   "outputs": [],
   "source": []
  }
 ],
 "metadata": {
  "kernelspec": {
   "display_name": "Python 3 (ipykernel)",
   "language": "python",
   "name": "python3"
  },
  "language_info": {
   "codemirror_mode": {
    "name": "ipython",
    "version": 3
   },
   "file_extension": ".py",
   "mimetype": "text/x-python",
   "name": "python",
   "nbconvert_exporter": "python",
   "pygments_lexer": "ipython3",
   "version": "3.11.6"
  }
 },
 "nbformat": 4,
 "nbformat_minor": 4
}
