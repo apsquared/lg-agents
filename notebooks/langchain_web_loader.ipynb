{
 "cells": [
  {
   "cell_type": "markdown",
   "metadata": {},
   "source": [
    "# LangChain Web Loading Experiments\n",
    "\n",
    "This notebook demonstrates how to use LangChain's web loading capabilities to:\n",
    "1. Load and parse web content\n",
    "2. Extract structured data\n",
    "3. Clean and process HTML content\n",
    "4. Handle different types of web pages\n",
    "5. Integrate with LLMs for content analysis"
   ]
  },
  {
   "cell_type": "code",
   "execution_count": 2,
   "metadata": {},
   "outputs": [
    {
     "name": "stdout",
     "output_type": "stream",
     "text": [
      "INFO     [browser_use] BrowserUse logging setup complete with level info\n",
      "INFO     [root] Anonymized telemetry enabled. See https://github.com/gregpr07/browser-use for more information.\n"
     ]
    },
    {
     "data": {
      "text/plain": [
       "True"
      ]
     },
     "execution_count": 2,
     "metadata": {},
     "output_type": "execute_result"
    }
   ],
   "source": [
    "# Import required libraries\n",
    "import sys\n",
    "from typing import List\n",
    "from dotenv import load_dotenv\n",
    "from pydantic import BaseModel, Field\n",
    "\n",
    "from langchain_community.document_loaders import WebBaseLoader\n",
    "\n",
    "# Add src to path for imports\n",
    "sys.path.append('../src')\n",
    "from agents.llmtools import get_llm\n",
    "\n",
    "# Load environment variables\n",
    "load_dotenv()"
   ]
  },
  {
   "cell_type": "markdown",
   "metadata": {},
   "source": [
    "## Basic Web Loading\n",
    "\n",
    "Let's start with basic web page loading and see what we get."
   ]
  },
  {
   "cell_type": "code",
   "execution_count": 6,
   "metadata": {},
   "outputs": [
    {
     "name": "stdout",
     "output_type": "stream",
     "text": [
      "Number of documents: 1\n",
      "\n",
      "Metadata from first document:\n",
      "{'source': 'https://graygrids.com/blog/product-hunt-alternatives', 'title': 'Top 11 Product Hunt Alternatives to Try in 2025 | GrayGrids', 'description': 'Discover Product Hunt Alternatives: Top Websites, Directories, and Communities to Successfully Launch Your Next Product, Startup, and To...', 'language': 'No language found.'}\n",
      "\n",
      "First 500 characters of content:\n",
      "Top 11 Product Hunt Alternatives to Try in 2025 | GrayGrids0Hours0Mins0Secs60% OFF on GrayGrids - Apply Coupon Code: BLFCM2024Explore All DealsTemplatesComponentsTailwind BuilderResourcesInspirationsImage CompressorMeta Tags GeneratorBrandsTailGridsUI Components, Blocks and Toolkit for Tailwind CSSTailAdminOpen-Source Tailwind CSS Admin Dashboard TemplateLineicons8400+ Line Icons for Designers and DevelopersFormBoldForm API and Backend Solution for All PlatformsPlainAdminFree Vanilla JS Multipur\n"
     ]
    }
   ],
   "source": [
    "# Load a simple web page\n",
    "url = \"https://graygrids.com/blog/product-hunt-alternatives\"\n",
    "loader = WebBaseLoader(url)\n",
    "\n",
    "# Load the page\n",
    "docs = loader.load()\n",
    "\n",
    "# Print basic info\n",
    "print(f\"Number of documents: {len(docs)}\")\n",
    "print(f\"\\nMetadata from first document:\")\n",
    "print(docs[0].metadata)\n",
    "print(f\"\\nFirst 500 characters of content:\")\n",
    "print(docs[0].page_content[:500])"
   ]
  },
  {
   "cell_type": "markdown",
   "metadata": {},
   "source": [
    "## Structured Data Extraction\n",
    "\n",
    "Now let's extract structured data from web pages using Pydantic models."
   ]
  },
  {
   "cell_type": "code",
   "execution_count": 11,
   "metadata": {},
   "outputs": [
    {
     "name": "stdout",
     "output_type": "stream",
     "text": [
      "Extracted Content:\n",
      "\n",
      "Important Links:\n",
      "- https://resource.fyi\n",
      "- https://indiehackers.com\n",
      "- https://betalist.com\n",
      "- https://www.reddit.com\n",
      "- https://news.ycombinator.com\n",
      "- https://www.capterra.com\n",
      "- https://startupstash.com\n",
      "- https://launchingnext.com\n",
      "- https://ctrlalt.com\n",
      "- https://sideprojectors.com\n",
      "- https://saasworthy.com\n",
      "- https://betapage.co\n",
      "- https://alternativeto.net\n"
     ]
    }
   ],
   "source": [
    "from langchain_core.documents import Document\n",
    "\n",
    "\n",
    "class WebContent(BaseModel):\n",
    "    \"\"\"Model for structured web content\"\"\"\n",
    "    links: List[str] = Field(description=\"List of links to competitors of Product Hunt\")\n",
    "    competitorNames: List[str] = Field(description=\"name of the competitors\")\n",
    "\n",
    "def extract_structured_content(doc: Document) -> WebContent:\n",
    "    \"\"\"Extract structured content from a web page\"\"\"\n",
    "    llm = get_llm()\n",
    "    prompt = f\"\"\"Extract the following information from this web page content:\n",
    "    - All links to top level domains that appear to be competitors to Product Hunt\n",
    "    \n",
    "    Content:\n",
    "    {doc.page_content}\n",
    "    \"\"\"\n",
    "    \n",
    "    structured_llm = llm.with_structured_output(WebContent)\n",
    "    return structured_llm.invoke(prompt)\n",
    "\n",
    "# Try it out\n",
    "structured_content = extract_structured_content(docs[0])\n",
    "print(\"Extracted Content:\")\n",
    "print(\"\\nImportant Links:\")\n",
    "for link in structured_content.links:\n",
    "    print(f\"- {link}\")"
   ]
  },
  {
   "cell_type": "markdown",
   "metadata": {},
   "source": [
    "## Text Splitting and Processing\n",
    "\n",
    "Let's look at how to split and process longer web content."
   ]
  },
  {
   "cell_type": "code",
   "execution_count": null,
   "metadata": {},
   "outputs": [],
   "source": [
    "# Create a text splitter\n",
    "text_splitter = RecursiveCharacterTextSplitter(\n",
    "    chunk_size=1000,\n",
    "    chunk_overlap=200,\n",
    "    length_function=len,\n",
    ")\n",
    "\n",
    "# Split the document\n",
    "splits = text_splitter.split_documents(docs)\n",
    "\n",
    "print(f\"Number of splits: {len(splits)}\")\n",
    "print(\"\\nFirst split:\")\n",
    "print(splits[0].page_content)"
   ]
  },
  {
   "cell_type": "markdown",
   "metadata": {},
   "source": [
    "## Advanced Web Loading\n",
    "\n",
    "Now let's try some more advanced web loading features."
   ]
  },
  {
   "cell_type": "code",
   "execution_count": null,
   "metadata": {},
   "outputs": [],
   "source": [
    "# Load with custom options\n",
    "advanced_loader = WebBaseLoader(\n",
    "    web_paths=[\"https://python.langchain.com/docs/modules/data_connection/document_loaders/\"],\n",
    "    verify_ssl=True,\n",
    "    continue_on_failure=True,\n",
    "    requests_per_second=2,\n",
    "    requests_kwargs={\n",
    "        \"headers\": {\n",
    "            \"User-Agent\": \"Mozilla/5.0 (Windows NT 10.0; Win64; x64) AppleWebKit/537.36 (KHTML, like Gecko) Chrome/91.0.4472.124 Safari/537.36\"\n",
    "        }\n",
    "    }\n",
    ")\n",
    "\n",
    "# Load with custom processing\n",
    "advanced_docs = advanced_loader.load()\n",
    "\n",
    "print(f\"Loaded {len(advanced_docs)} documents\")\n",
    "print(\"\\nMetadata from first document:\")\n",
    "print(advanced_docs[0].metadata)"
   ]
  },
  {
   "cell_type": "markdown",
   "metadata": {},
   "source": [
    "## Content Analysis with LLM\n",
    "\n",
    "Finally, let's analyze the web content using an LLM."
   ]
  },
  {
   "cell_type": "code",
   "execution_count": null,
   "metadata": {},
   "outputs": [],
   "source": [
    "def analyze_content(doc: Document) -> str:\n",
    "    \"\"\"Analyze web content using LLM\"\"\"\n",
    "    llm = get_llm()\n",
    "    prompt = f\"\"\"Analyze this web page content and provide:\n",
    "    1. Main topic and purpose\n",
    "    2. Key points or takeaways\n",
    "    3. Technical complexity level\n",
    "    4. Target audience\n",
    "    \n",
    "    Content:\n",
    "    {doc.page_content}\n",
    "    \"\"\"\n",
    "    \n",
    "    chain = llm | StrOutputParser()\n",
    "    return chain.invoke(prompt)\n",
    "\n",
    "# Try the analysis\n",
    "analysis = analyze_content(docs[0])\n",
    "print(\"Content Analysis:\")\n",
    "print(analysis)"
   ]
  }
 ],
 "metadata": {
  "kernelspec": {
   "display_name": "Python 3 (ipykernel)",
   "language": "python",
   "name": "python3"
  },
  "language_info": {
   "codemirror_mode": {
    "name": "ipython",
    "version": 3
   },
   "file_extension": ".py",
   "mimetype": "text/x-python",
   "name": "python",
   "nbconvert_exporter": "python",
   "pygments_lexer": "ipython3",
   "version": "3.11.6"
  }
 },
 "nbformat": 4,
 "nbformat_minor": 4
}
